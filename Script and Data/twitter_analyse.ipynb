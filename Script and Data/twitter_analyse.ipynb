{
 "cells": [
  {
   "cell_type": "code",
   "execution_count": null,
   "metadata": {},
   "outputs": [],
   "source": [
    "import numpy as np\n",
    "import pandas as pd\n",
    "import math\n",
    "from pathlib import Path\n",
    "import matplotlib.pyplot as plt\n",
    "import seaborn as sns\n",
    "from scipy import stats\n",
    "import statistics as st\n",
    "from math import *\n",
    "from sklearn.preprocessing import MinMaxScaler # Normalization\n",
    "from sklearn.linear_model import LinearRegression # Regression linear model\n",
    "from sklearn.model_selection import train_test_split # Splitting the data set\n",
    "from sklearn.metrics import mean_squared_error, mean_absolute_error, r2_score # Metrics for errors\n",
    "from sklearn.model_selection import KFold # Cross validation\n",
    "from tqdm import tqdm\n",
    "from vaderSentiment.vaderSentiment import SentimentIntensityAnalyzer\n",
    "from sklearn import metrics\n",
    "import lightgbm as lgb\n",
    "from sklearn.model_selection import train_test_split\n",
    "\n",
    "filepath = ''"
   ]
  },
  {
   "cell_type": "markdown",
   "metadata": {},
   "source": [
    "Download dataset"
   ]
  },
  {
   "cell_type": "code",
   "execution_count": null,
   "metadata": {},
   "outputs": [],
   "source": [
    "tweet = pd.read_csv(filepath + 'tweets.csv', low_memory = False, delimiter=';', skiprows=0, lineterminator='\\n', usecols = ['id','user', 'fullname','timestamp','replies','likes','retweets','text\\r'])\n",
    "tweet.head(2)"
   ]
  },
  {
   "cell_type": "code",
   "execution_count": null,
   "metadata": {},
   "outputs": [],
   "source": [
    "tweet.shape"
   ]
  },
  {
   "cell_type": "code",
   "execution_count": null,
   "metadata": {},
   "outputs": [],
   "source": [
    "#rename and sort\n",
    "tweet = tweet.rename(columns={\"timestamp\": \"Date\", \"text\\r\": \"text\"})\n",
    "tweet = tweet.sort_values(by = 'Date')"
   ]
  },
  {
   "cell_type": "code",
   "execution_count": null,
   "metadata": {},
   "outputs": [],
   "source": [
    "tweet[tweet['text'].map(lambda x: x.isascii())]"
   ]
  },
  {
   "cell_type": "markdown",
   "metadata": {},
   "source": [
    "Sentiment analysis"
   ]
  },
  {
   "cell_type": "code",
   "execution_count": null,
   "metadata": {},
   "outputs": [],
   "source": [
    "#sentiment analysis\n",
    "analyzer = SentimentIntensityAnalyzer()\n",
    "compound = []\n",
    "for i,s in enumerate(tqdm(tweet['text'],position=0, leave=True)):\n",
    "    # print(i,s)\n",
    "    vs = analyzer.polarity_scores(str(s))\n",
    "    compound.append(vs[\"compound\"])\n",
    "tweet[\"compound\"] = compound\n",
    "tweet.head(2)"
   ]
  },
  {
   "cell_type": "code",
   "execution_count": null,
   "metadata": {},
   "outputs": [],
   "source": [
    "tweet.to_csv(filepath + 'tweet_compound.csv')"
   ]
  }
 ],
 "metadata": {
  "interpreter": {
   "hash": "ff4f85d6e04298634172ac5d8264e7e9b556b95639fe52ebb9425c4d4cba0c9c"
  },
  "kernelspec": {
   "display_name": "Python 3",
   "language": "python",
   "name": "python3"
  },
  "language_info": {
   "codemirror_mode": {
    "name": "ipython",
    "version": 3
   },
   "file_extension": ".py",
   "mimetype": "text/x-python",
   "name": "python",
   "nbconvert_exporter": "python",
   "pygments_lexer": "ipython3",
   "version": "3.8.8"
  }
 },
 "nbformat": 4,
 "nbformat_minor": 2
}
